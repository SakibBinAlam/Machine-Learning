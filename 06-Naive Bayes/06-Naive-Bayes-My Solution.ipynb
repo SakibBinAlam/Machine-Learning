{
 "cells": [
  {
   "cell_type": "markdown",
   "metadata": {},
   "source": [
    "Before you turn this problem in, make sure everything runs as expected. First, **restart the kernel** (in the menubar, select Kernel$\\rightarrow$Restart) and then **run all cells** (in the menubar, select Cell$\\rightarrow$Run All).\n",
    "\n",
    "Make sure you fill in any place that says `YOUR CODE HERE` or \"YOUR ANSWER HERE\", as well as your name and collaborators below:"
   ]
  },
  {
   "cell_type": "code",
   "execution_count": 1,
   "metadata": {},
   "outputs": [],
   "source": [
    "NAME = \"Md. Sakib Bin Alam\"\n",
    "ID = \"st122574\""
   ]
  },
  {
   "cell_type": "markdown",
   "metadata": {},
   "source": [
    "---"
   ]
  },
  {
   "cell_type": "markdown",
   "metadata": {},
   "source": [
    "# Lab 06: Generative classifiers: Naive Bayes\n",
    "\n",
    "As discussed in class, a Naive Bayes classifier works as follows:\n",
    "$$\\begin{eqnarray}\n",
    "p(y \\mid \\mathbf{x} ; \\theta) & = & \\frac{p(\\mathbf{x} \\mid y ; \\theta) p(y ; \\theta)}{p(\\mathbf{x} ; \\theta)} \\\\\n",
    "& \\propto & p(\\mathbf{x} \\mid y ; \\theta) p(y ; \\theta) \\\\\n",
    "& \\approx & p(y ; \\theta) \\prod_j p(x_j \\mid y ; \\theta)\n",
    "\\end{eqnarray}$$\n",
    "We will use Naive Bayes to perform diabetes diagnosis and text classification."
   ]
  },
  {
   "cell_type": "markdown",
   "metadata": {},
   "source": [
    "## Example 1: Diabetes classification\n",
    "\n",
    "In this example we predict wheter a patient with specific diagnostic measurements has diabetes or not. As the features are\n",
    "continuous, we will model the conditional probabilities\n",
    "$p(x_j \\mid y ; \\theta)$ as univariate Gaussians with mean $\\mu_{j,y}$ and standard deviation $\\sigma_{j,y}$.\n",
    "\n",
    "The data are originally from the U.S. National Institute of Diabetes and Digestive and Kidney Diseases (NIDDK) and are available\n",
    "from [Kaggle](https://www.kaggle.com/uciml/pima-indians-diabetes-database)\n"
   ]
  },
  {
   "cell_type": "code",
   "execution_count": 2,
   "metadata": {},
   "outputs": [],
   "source": [
    "import csv\n",
    "import math\n",
    "import random\n",
    "import pandas as pd\n",
    "import numpy as np\n",
    "from sklearn.model_selection import train_test_split"
   ]
  },
  {
   "cell_type": "markdown",
   "metadata": {},
   "source": [
    "### Data manipulation\n",
    "\n",
    "First we have some functions to read the dataset, split it into train and test, and partition it according to target class ($y$)."
   ]
  },
  {
   "cell_type": "code",
   "execution_count": 3,
   "metadata": {},
   "outputs": [],
   "source": [
    "# Load data from CSV file\n",
    "def loadCsv(filename):\n",
    "    data_raw = pd.read_csv(filename)\n",
    "    headers = data_raw.columns\n",
    "    dataset = data_raw.values\n",
    "    return dataset, headers\n",
    "\n",
    "# Split dataset into test and train with given ratio\n",
    "def splitDataset(test_size,*arrays,**kwargs):\n",
    "    return train_test_split(*arrays,test_size=test_size,**kwargs)\n",
    "\n",
    "# Separate training data according to target class\n",
    "# Return key value pairs array in which keys are possible target variable values\n",
    "# and values are the data records.\n",
    "\n",
    "def data_split_byClass(dataset):\n",
    "    Xy = {}\n",
    "    for i in range(len(dataset)):\n",
    "        datapair = dataset[i]\n",
    "        #print(datapair)\n",
    "        # datapair[-1] (the last column) is the target class for this record.\n",
    "        # Check if we already have this value as a key in the return array\n",
    "        if (datapair[-1] not in Xy):\n",
    "            # Add class as key\n",
    "            Xy[datapair[-1]] = []\n",
    "        # Append this record to array of records for this class key\n",
    "        Xy[datapair[-1]].append(datapair)\n",
    "    print(Xy)\n",
    "    return Xy"
   ]
  },
  {
   "cell_type": "markdown",
   "metadata": {},
   "source": [
    "### Model training\n",
    "\n",
    "Next we have some functions used for training the model. Parameters include mean and standard deviation, used\n",
    "to partition numerical variables into categorical variables, as well as "
   ]
  },
  {
   "cell_type": "code",
   "execution_count": 4,
   "metadata": {},
   "outputs": [],
   "source": [
    "# Parameters of a Gaussian are its mean and standard deviation\n",
    "\n",
    "def mean(numbers):\n",
    "    return sum(numbers)/float(len(numbers))\n",
    "\n",
    "def stdev(numbers):\n",
    "    avg = mean(numbers)\n",
    "    variance = sum([pow(x-avg,2) for x in numbers])/float(len(numbers)-1)\n",
    "    return math.sqrt(variance)\n",
    "\n",
    "# Calculate Gaussian parameters mu and sigma for each attribute over a dataset\n",
    "\n",
    "def get_gaussian_parameters(X,y):\n",
    "    parameters = {}\n",
    "    unique_y = np.unique(y)\n",
    "    for uy in unique_y:\n",
    "        mean = np.mean(X[y==uy],axis=0)\n",
    "        std = np.std(X[y==uy],axis=0)\n",
    "        py = y[y==uy].size/y.size\n",
    "        parameters[uy] = {'prior':py,'mean':mean,'std':std}\n",
    "    return parameters, unique_y\n",
    "\n",
    "def calculateProbability(x, mu, sigma):\n",
    "    sigma = np.diag(sigma**2)\n",
    "    x = x.reshape(-1,1)\n",
    "    mu = mu.reshape(-1,1)\n",
    "    exponent = np.exp(-1/2*(x-mu).T@np.linalg.inv(sigma)@(x-mu))\n",
    "    return ((1/(np.sqrt(((2*np.pi)**x.size)*np.linalg.det(sigma))))*exponent)[0,0]"
   ]
  },
  {
   "cell_type": "markdown",
   "metadata": {},
   "source": [
    "### Model testing\n",
    "\n",
    "Next some functions for testing the model on a test set and computing its accuracy. Note that we assume\n",
    "$$ p(y \\mid \\mathbf{x} ; \\theta) \\propto p(\\mathbf{x} \\mid y ; \\theta), $$\n",
    "which means we assume that the priors $p(y)$ are equal for each possible value of $y$."
   ]
  },
  {
   "cell_type": "code",
   "execution_count": 5,
   "metadata": {},
   "outputs": [],
   "source": [
    "# Calculate class conditional probabilities for given input data vector\n",
    "\n",
    "def predict_one(x,parameters,unique_y,prior = True):\n",
    "    probabilities = []\n",
    "    for key in parameters.keys():\n",
    "        probabilities.append(calculateProbability(x,parameters[key]['mean'],parameters[key]['std'])*(parameters[key]['prior']**(float(prior))))\n",
    "    probabilities = np.array(probabilities)\n",
    "    return unique_y[np.argmax(probabilities)]\n",
    "\n",
    "def getPredictions(X, parameters, unique_y,prior=True):\n",
    "    predictions = []\n",
    "    for i in range(X.shape[0]):\n",
    "        predictions.append(predict_one(X[i],parameters,unique_y,prior))\n",
    "    return np.array(predictions)\n",
    "\n",
    "# Get accuracy for test set\n",
    "\n",
    "def getAccuracy(y, y_pred):\n",
    "    correct = len(y[y==y_pred])\n",
    "    return correct/y.size"
   ]
  },
  {
   "cell_type": "markdown",
   "metadata": {},
   "source": [
    "### Experiment\n",
    "\n",
    "Here we load the diabetes dataset, split it into training and test data, train a Gaussian NB model, and test the model on the test set."
   ]
  },
  {
   "cell_type": "code",
   "execution_count": 6,
   "metadata": {},
   "outputs": [
    {
     "name": "stdout",
     "output_type": "stream",
     "text": [
      "Total = 768 Train = 460 Test = 308\n",
      "Accuracy with Prior = 0.7857142857142857\n",
      "Accuracy without Prior = 0.775974025974026\n"
     ]
    }
   ],
   "source": [
    "# Load dataset\n",
    "\n",
    "filename = 'diabetes.csv'\n",
    "dataset, headers = loadCsv(filename)\n",
    "#print(headers)\n",
    "#print(np.array(dataset)[0:5,:])\n",
    "\n",
    "# Split into training and test\n",
    "\n",
    "X_train,X_test,y_train,y_test = splitDataset(0.4,dataset[:,:-1],dataset[:,-1])\n",
    "print(\"Total =\",len(dataset),\"Train =\", len(X_train),\"Test =\",len(X_test))\n",
    "\n",
    "# Train model\n",
    "\n",
    "parameters, unique_y = get_gaussian_parameters(X_train,y_train)\n",
    "prediction = getPredictions(X_test,parameters,unique_y)\n",
    "print(\"Accuracy with Prior =\",getAccuracy(y_test,prediction))\n",
    "\n",
    "# Test model\n",
    "\n",
    "prediction = getPredictions(X_test,parameters,unique_y,prior = False)\n",
    "print(\"Accuracy without Prior =\",getAccuracy(y_test,prediction))"
   ]
  },
  {
   "cell_type": "code",
   "execution_count": 21,
   "metadata": {},
   "outputs": [
    {
     "name": "stdout",
     "output_type": "stream",
     "text": [
      "Index(['Pregnancies', 'Glucose', 'BloodPressure', 'SkinThickness', 'Insulin',\n",
      "       'BMI', 'DiabetesPedigreeFunction', 'Age', 'Outcome'],\n",
      "      dtype='object')\n"
     ]
    }
   ],
   "source": [
    "#type(dataset)\n",
    "print(headers)"
   ]
  },
  {
   "cell_type": "markdown",
   "metadata": {
    "deletable": false,
    "editable": false,
    "nbgrader": {
     "cell_type": "markdown",
     "checksum": "a0bcbc8407fdfb3f7d96cc07ad4d3124",
     "grade": false,
     "grade_id": "cell-9a740adb2ea13611",
     "locked": true,
     "schema_version": 3,
     "solution": false,
     "task": false
    }
   },
   "source": [
    "###  Exercise In lab / take home work (20 points)\n",
    "\n",
    "Find out the proportion of the records in your dataset are positive vs. negative.  Can we conclude that $p(y=1) = p(y=0)$? If not, add\n",
    "the priors $p(y=1)$ and $p(y=0)$ to your NB model. Does it improve the result?\n",
    "\n"
   ]
  },
  {
   "cell_type": "code",
   "execution_count": 8,
   "metadata": {
    "deletable": false,
    "nbgrader": {
     "cell_type": "code",
     "checksum": "0cf1a770bb1ee9faa6961f202769b10e",
     "grade": true,
     "grade_id": "cell-c1a5f74a2d330b0c",
     "locked": false,
     "points": 15,
     "schema_version": 3,
     "solution": true,
     "task": false
    }
   },
   "outputs": [
    {
     "name": "stdout",
     "output_type": "stream",
     "text": [
      "p(y = 0) is 0.6565217391304348\n",
      "p(y = 1) is 0.34347826086956523\n"
     ]
    }
   ],
   "source": [
    "# YOUR CODE HERE\n",
    "\n",
    "ratio0 = len(X_train[y_train==0])/len(y_train)\n",
    "ratio1 = len(X_train[y_train==1])/len(y_train)\n",
    "print('p(y = 0) is',(ratio0))\n",
    "print('p(y = 1) is',(ratio1))\n",
    "\n",
    "\n",
    "#raise NotImplementedError()"
   ]
  },
  {
   "cell_type": "code",
   "execution_count": 10,
   "metadata": {},
   "outputs": [
    {
     "name": "stdout",
     "output_type": "stream",
     "text": [
      "Accuracy with Prior: 0.7857142857142857\n",
      "Accuracy without Prior: 0.775974025974026\n"
     ]
    }
   ],
   "source": [
    "parameters, unique_y = get_gaussian_parameters(X_train,y_train)\n",
    "\n",
    "#print(parameters)\n",
    "\n",
    "prediction = getPredictions(X_test,parameters,unique_y,prior = True)\n",
    "Acc_Pr = getAccuracy(y_test,prediction)\n",
    "print(\"Accuracy with Prior:\",(Acc_Pr))\n",
    "\n",
    "\n",
    "prediction = getPredictions(X_test,parameters,unique_y,prior = False)\n",
    "Acc_noPr = getAccuracy(y_test,prediction)\n",
    "print(\"Accuracy without Prior:\",(Acc_noPr))"
   ]
  },
  {
   "cell_type": "markdown",
   "metadata": {
    "deletable": false,
    "editable": false,
    "nbgrader": {
     "cell_type": "markdown",
     "checksum": "f416d2fceb4d17b1865da03585d6f44f",
     "grade": false,
     "grade_id": "cell-a32adf75650dfd55",
     "locked": true,
     "points": 5,
     "schema_version": 3,
     "solution": false,
     "task": true
    }
   },
   "source": [
    "**Explain that you can conclude that $p(y=1) = p(y=0)$? If not, add\n",
    "the priors $p(y=1)$ and $p(y=0)$ to your NB model. Does it improve the result? (double click to explain)**\n",
    "\n"
   ]
  },
  {
   "cell_type": "markdown",
   "metadata": {},
   "source": [
    "From the result we see that p(y=1) is not equal to p(y=0). And by adding priors, the result shows little improvement."
   ]
  },
  {
   "cell_type": "markdown",
   "metadata": {},
   "source": [
    "## Example 2: Text classification\n",
    "\n",
    "This example has been adapted from a post by Jaya Aiyappan, available at\n",
    "[Analytics Vidhya](https://medium.com/analytics-vidhya/naive-bayes-classifier-for-text-classification-556fabaf252b#:~:text=The%20Naive%20Bayes%20classifier%20is,time%20and%20less%20training%20data).\n",
    "\n",
    "We will generate a small dataset of sentences that are classified as either \"statements\" or \"questions.\"\n",
    "\n",
    "We will assume that occurance and placement of words within a sentence is independent of each other\n",
    "(i.e., the features are conditionally independent given $y$). So the sentence \"this is my book\" is the same as \"is this my book.\"\n",
    "We will treat words as case insensitive."
   ]
  },
  {
   "cell_type": "code",
   "execution_count": 12,
   "metadata": {},
   "outputs": [
    {
     "name": "stdout",
     "output_type": "stream",
     "text": [
      "                             sentence      class\n",
      "0               This is my novel book  statement\n",
      "1  this book has more than one author  statement\n",
      "2                     is this my book   question\n",
      "3                     They are novels  statement\n",
      "4             have you read this book   question\n",
      "5            who is the novels author   question\n",
      "6             what are the characters   question\n",
      "7       This is how I bought the book  statement\n",
      "8         I like fictional characters  statement\n",
      "9          what is your favorite book   question\n",
      "\n",
      "------------------------------------------\n",
      "\n",
      "                        sentence      class\n",
      "0               this is the book  statement\n",
      "1  who are the novels characters   question\n",
      "2             is this the author   question\n",
      "3                  I like apples       None\n"
     ]
    }
   ],
   "source": [
    "# Generate text data for two classes, \"statement\" and \"question\"\n",
    "\n",
    "text_train = [['This is my novel book', 'statement'],\n",
    "              ['this book has more than one author', 'statement'],\n",
    "              ['is this my book', 'question'],\n",
    "              ['They are novels', 'statement'],\n",
    "              ['have you read this book', 'question'],\n",
    "              ['who is the novels author', 'question'],\n",
    "              ['what are the characters', 'question'],\n",
    "              ['This is how I bought the book', 'statement'],\n",
    "              ['I like fictional characters', 'statement'],\n",
    "              ['what is your favorite book', 'question']]\n",
    "\n",
    "text_test = [['this is the book', 'statement'], \n",
    "             ['who are the novels characters', 'question'], \n",
    "             ['is this the author', 'question'],\n",
    "            ['I like apples']]\n",
    "\n",
    "# Load training and test data into pandas data frames\n",
    "\n",
    "training_data = pd.DataFrame(text_train, columns= ['sentence', 'class'])\n",
    "print(training_data)\n",
    "print('\\n------------------------------------------\\n')\n",
    "testing_data = pd.DataFrame(text_test, columns= ['sentence', 'class'])\n",
    "print(testing_data)\n"
   ]
  },
  {
   "cell_type": "code",
   "execution_count": 13,
   "metadata": {},
   "outputs": [],
   "source": [
    "# Partition training data by class\n",
    "\n",
    "stmt_docs = [train['sentence'] for index,train in training_data.iterrows() if train['class'] == 'statement']\n",
    "question_docs = [train['sentence'] for index,train in training_data.iterrows() if train['class'] == 'question']\n",
    "all_docs = [train['sentence'] for index,train in training_data.iterrows()]\n",
    "\n",
    "# Get word frequencies for each sentence and class\n",
    "\n",
    "def get_words(text):\n",
    "    # Initialize word list\n",
    "    words = [];\n",
    "    # Loop through each sentence in input array\n",
    "    for text_row in text:       \n",
    "        # Check the number of words. Assume each word is separated by a blank space\n",
    "        # so that the number of words is the number of blank spaces + 1\n",
    "        number_of_spaces = text_row.count(' ')\n",
    "        # loop through the sentence and get words between blank spaces.\n",
    "        for i in range(number_of_spaces):\n",
    "            # Check for for last word\n",
    "            words.append([text_row[:text_row.index(' ')].lower()])\n",
    "            text_row = text_row[text_row.index(' ')+1:]  \n",
    "            i = i + 1        \n",
    "        words.append([text_row])\n",
    "    return np.unique(words)\n",
    "\n",
    "# Get frequency of each word in each document\n",
    "\n",
    "def get_doc_word_frequency(words, text):  \n",
    "    word_freq_table = np.zeros((len(text),len(words)), dtype=int)\n",
    "    i = 0\n",
    "    for text_row in text:\n",
    "        # Insert extra space between each pair of words to prevent\n",
    "        # partial match of words\n",
    "        text_row_temp = ''\n",
    "        for idx, val in enumerate(text_row):\n",
    "            if val == ' ':\n",
    "                 text_row_temp = text_row_temp + '  '\n",
    "            else:\n",
    "                  text_row_temp = text_row_temp + val.lower()\n",
    "        text_row = ' ' + text_row_temp + ' '\n",
    "        j = 0\n",
    "        for word in words: \n",
    "            word = ' ' + word + ' '\n",
    "            freq = text_row.count(word)\n",
    "            word_freq_table[i,j] = freq\n",
    "            j = j + 1\n",
    "        i = i + 1\n",
    "    \n",
    "    return word_freq_table"
   ]
  },
  {
   "cell_type": "code",
   "execution_count": 14,
   "metadata": {},
   "outputs": [
    {
     "name": "stdout",
     "output_type": "stream",
     "text": [
      "   are  author  book  bought  characters  fictional  has  how  i  is  like  \\\n",
      "0    0       0     1       0           0          0    0    0  0   1     0   \n",
      "1    0       1     1       0           0          0    1    0  0   0     0   \n",
      "2    1       0     0       0           0          0    0    0  0   0     0   \n",
      "3    0       0     1       1           0          0    0    1  1   1     0   \n",
      "4    0       0     0       0           1          1    0    0  1   0     1   \n",
      "\n",
      "   more  my  novel  novels  one  than  the  they  this  \n",
      "0     0   1      1       0    0     0    0     0     1  \n",
      "1     1   0      0       0    1     1    0     0     1  \n",
      "2     0   0      0       1    0     0    0     1     0  \n",
      "3     0   0      0       0    0     0    1     0     1  \n",
      "4     0   0      0       0    0     0    0     0     0  \n"
     ]
    }
   ],
   "source": [
    "# Get word frequencies for statement documents\n",
    "\n",
    "word_list_s = get_words(stmt_docs)\n",
    "word_freq_table_s = get_doc_word_frequency(word_list_s, stmt_docs)\n",
    "tdm_s = pd.DataFrame(word_freq_table_s, columns=word_list_s)\n",
    "print(tdm_s)"
   ]
  },
  {
   "cell_type": "code",
   "execution_count": 15,
   "metadata": {},
   "outputs": [
    {
     "name": "stdout",
     "output_type": "stream",
     "text": [
      "{'are': 1, 'author': 1, 'book': 3, 'bought': 1, 'characters': 1, 'fictional': 1, 'has': 1, 'how': 1, 'i': 2, 'is': 2, 'like': 1, 'more': 1, 'my': 1, 'novel': 1, 'novels': 1, 'one': 1, 'than': 1, 'the': 1, 'they': 1, 'this': 3}\n"
     ]
    }
   ],
   "source": [
    "# Get word frequencies over all statement documents\n",
    "\n",
    "freq_list_s = word_freq_table_s.sum(axis=0) \n",
    "freq_s = dict(zip(word_list_s,freq_list_s))\n",
    "print(freq_s)"
   ]
  },
  {
   "cell_type": "code",
   "execution_count": 16,
   "metadata": {},
   "outputs": [
    {
     "name": "stdout",
     "output_type": "stream",
     "text": [
      "   are  author  book  characters  favorite  have  is  my  novels  read  the  \\\n",
      "0    0       0     1           0         0     0   1   1       0     0    0   \n",
      "1    0       0     1           0         0     1   0   0       0     1    0   \n",
      "2    0       1     0           0         0     0   1   0       1     0    1   \n",
      "3    1       0     0           1         0     0   0   0       0     0    1   \n",
      "4    0       0     1           0         1     0   1   0       0     0    0   \n",
      "\n",
      "   this  what  who  you  your  \n",
      "0     1     0    0    0     0  \n",
      "1     1     0    0    1     0  \n",
      "2     0     0    1    0     0  \n",
      "3     0     1    0    0     0  \n",
      "4     0     1    0    0     1  \n"
     ]
    }
   ],
   "source": [
    "# Get word frequencies for question documents\n",
    "\n",
    "word_list_q = get_words(question_docs)\n",
    "word_freq_table_q = get_doc_word_frequency(word_list_q, question_docs)\n",
    "tdm_q = pd.DataFrame(word_freq_table_q, columns=word_list_q)\n",
    "print(tdm_q)"
   ]
  },
  {
   "cell_type": "code",
   "execution_count": 17,
   "metadata": {},
   "outputs": [
    {
     "name": "stdout",
     "output_type": "stream",
     "text": [
      "{'are': 1, 'author': 1, 'book': 3, 'characters': 1, 'favorite': 1, 'have': 1, 'is': 3, 'my': 1, 'novels': 1, 'read': 1, 'the': 2, 'this': 2, 'what': 2, 'who': 1, 'you': 1, 'your': 1}\n",
      "[1 1 3 1 1 1 1 1 2 2 1 1 1 1 1 1 1 1 1 3]\n",
      "[1 1 3 1 1 1 3 1 1 1 2 2 2 1 1 1]\n"
     ]
    }
   ],
   "source": [
    "# Get word frequencies over all question documents\n",
    "\n",
    "freq_list_q = word_freq_table_q.sum(axis=0) \n",
    "freq_q = dict(zip(word_list_q,freq_list_q))\n",
    "print(freq_q)\n",
    "print(freq_list_s)\n",
    "print(freq_list_q)"
   ]
  },
  {
   "cell_type": "code",
   "execution_count": 18,
   "metadata": {},
   "outputs": [
    {
     "name": "stdout",
     "output_type": "stream",
     "text": [
      "Probability of words for \"statement\" class \n",
      "\n",
      "{'are': 0.043478260869565216, 'author': 0.043478260869565216, 'book': 0.08695652173913043, 'bought': 0.043478260869565216, 'characters': 0.043478260869565216, 'fictional': 0.043478260869565216, 'has': 0.043478260869565216, 'how': 0.043478260869565216, 'i': 0.06521739130434782, 'is': 0.06521739130434782, 'like': 0.043478260869565216, 'more': 0.043478260869565216, 'my': 0.043478260869565216, 'novel': 0.043478260869565216, 'novels': 0.043478260869565216, 'one': 0.043478260869565216, 'than': 0.043478260869565216, 'the': 0.043478260869565216, 'they': 0.043478260869565216, 'this': 0.08695652173913043}\n",
      "------------------------------------------- \n",
      "\n",
      "Probability of words for \"question\" class \n",
      "\n",
      "{'are': 0.05128205128205128, 'author': 0.05128205128205128, 'book': 0.10256410256410256, 'characters': 0.05128205128205128, 'favorite': 0.05128205128205128, 'have': 0.05128205128205128, 'is': 0.10256410256410256, 'my': 0.05128205128205128, 'novels': 0.05128205128205128, 'read': 0.05128205128205128, 'the': 0.07692307692307693, 'this': 0.07692307692307693, 'what': 0.07692307692307693, 'who': 0.05128205128205128, 'you': 0.05128205128205128, 'your': 0.05128205128205128}\n"
     ]
    }
   ],
   "source": [
    "# Get word probabilities for statement class\n",
    "a = 1\n",
    "prob_s = []\n",
    "for count in freq_list_s:\n",
    "    #print(word, count)\n",
    "    prob_s.append((count+a)/(sum(freq_list_s)+len(freq_list_s)*a))\n",
    "prob_s.append(a/(sum(freq_list_s)+len(freq_list_s)*a))\n",
    "    \n",
    "# Get word probabilities for question class\n",
    "\n",
    "prob_q = []\n",
    "for count in freq_list_q:\n",
    "    prob_q.append((count+a)/(sum(freq_list_q)+len(freq_list_q)*a))\n",
    "prob_q.append(a/(sum(freq_list_q)+len(freq_list_q)*a))   \n",
    "    \n",
    "    \n",
    "print('Probability of words for \"statement\" class \\n')\n",
    "print(dict(zip(word_list_s, prob_s)))\n",
    "print('------------------------------------------- \\n')\n",
    "print('Probability of words for \"question\" class \\n')\n",
    "print(dict(zip(word_list_q, prob_q)))"
   ]
  },
  {
   "cell_type": "code",
   "execution_count": 27,
   "metadata": {},
   "outputs": [],
   "source": [
    "# Calculate prior for one class\n",
    "\n",
    "def prior(className):    \n",
    "    denominator = len(stmt_docs) + len(question_docs)\n",
    "    \n",
    "    if className == 'statement':\n",
    "        numerator =  len(stmt_docs)\n",
    "    else:\n",
    "        numerator =  len(question_docs)\n",
    "        \n",
    "    return np.divide(numerator,denominator)\n",
    "    \n",
    "# Calculate class conditional probability for a sentence\n",
    "    \n",
    "def classCondProb(sentence, className):\n",
    "    words = get_words(sentence)\n",
    "    prob = 1\n",
    "    for word in words:\n",
    "        if className == 'statement':\n",
    "            idx = np.where(word_list_s == word)\n",
    "            #print('idx shape:', np.array(idx).shape)\n",
    "            prob = prob * prob_s[np.array(idx)[0,0]]\n",
    "        else:\n",
    "            idx = np.where(word_list_q == word)\n",
    "            prob = prob * prob_q[np.array(idx)[0,0]]   \n",
    "    \n",
    "    return prob\n",
    "\n",
    "# Predict class of a sentence\n",
    "\n",
    "def predict(sentence):\n",
    "    prob_statement = classCondProb(sentence, 'statement') * prior('statement')\n",
    "    prob_question = classCondProb(sentence, 'question') * prior('question')\n",
    "    if  prob_statement > prob_question:\n",
    "        return 'statement'\n",
    "    else:\n",
    "        return 'question'"
   ]
  },
  {
   "cell_type": "markdown",
   "metadata": {
    "deletable": false,
    "editable": false,
    "nbgrader": {
     "cell_type": "markdown",
     "checksum": "06f31d4f4657c9d7a61ca287b3a51c86",
     "grade": false,
     "grade_id": "cell-3b166fac02ec4711",
     "locked": true,
     "schema_version": 3,
     "solution": false,
     "task": false
    }
   },
   "source": [
    "### In-lab exercise: Laplace smoothing\n",
    "\n",
    "Run the code below and figure out why it fails.\n",
    "\n",
    "When a word does not appear with a specific class in the training data, its class-conditional probability is 0, and we are unable to\n",
    "get a reasonable probability for that class.\n",
    "\n",
    "Research Laplace smoothing, and modify the code above to implement Laplace smoothing (setting the frequency of all words with frequency 0 to a frequency of 1).\n",
    "Run the modified code on the test set."
   ]
  },
  {
   "cell_type": "code",
   "execution_count": 28,
   "metadata": {},
   "outputs": [
    {
     "name": "stdout",
     "output_type": "stream",
     "text": [
      "Getting prediction for \"this is the book\"\n"
     ]
    },
    {
     "ename": "IndexError",
     "evalue": "index 0 is out of bounds for axis 1 with size 0",
     "output_type": "error",
     "traceback": [
      "\u001b[1;31m---------------------------------------------------------------------------\u001b[0m",
      "\u001b[1;31mIndexError\u001b[0m                                Traceback (most recent call last)",
      "Input \u001b[1;32mIn [28]\u001b[0m, in \u001b[0;36m<cell line: 3>\u001b[1;34m()\u001b[0m\n\u001b[0;32m      1\u001b[0m test_docs \u001b[38;5;241m=\u001b[39m \u001b[38;5;28mlist\u001b[39m([test[\u001b[38;5;124m'\u001b[39m\u001b[38;5;124msentence\u001b[39m\u001b[38;5;124m'\u001b[39m] \u001b[38;5;28;01mfor\u001b[39;00m index,test \u001b[38;5;129;01min\u001b[39;00m testing_data\u001b[38;5;241m.\u001b[39miterrows()])\n\u001b[0;32m      2\u001b[0m \u001b[38;5;28mprint\u001b[39m(\u001b[38;5;124m'\u001b[39m\u001b[38;5;124mGetting prediction for \u001b[39m\u001b[38;5;124m\"\u001b[39m\u001b[38;5;132;01m%s\u001b[39;00m\u001b[38;5;124m\"\u001b[39m\u001b[38;5;124m'\u001b[39m \u001b[38;5;241m%\u001b[39m test_docs[\u001b[38;5;241m0\u001b[39m])\n\u001b[1;32m----> 3\u001b[0m \u001b[43mpredict\u001b[49m\u001b[43m(\u001b[49m\u001b[43mtest_docs\u001b[49m\u001b[43m[\u001b[49m\u001b[38;5;241;43m0\u001b[39;49m\u001b[43m]\u001b[49m\u001b[43m)\u001b[49m\n",
      "Input \u001b[1;32mIn [27]\u001b[0m, in \u001b[0;36mpredict\u001b[1;34m(sentence)\u001b[0m\n\u001b[0;32m     31\u001b[0m \u001b[38;5;28;01mdef\u001b[39;00m \u001b[38;5;21mpredict\u001b[39m(sentence):\n\u001b[1;32m---> 32\u001b[0m     prob_statement \u001b[38;5;241m=\u001b[39m \u001b[43mclassCondProb\u001b[49m\u001b[43m(\u001b[49m\u001b[43msentence\u001b[49m\u001b[43m,\u001b[49m\u001b[43m \u001b[49m\u001b[38;5;124;43m'\u001b[39;49m\u001b[38;5;124;43mstatement\u001b[39;49m\u001b[38;5;124;43m'\u001b[39;49m\u001b[43m)\u001b[49m \u001b[38;5;241m*\u001b[39m prior(\u001b[38;5;124m'\u001b[39m\u001b[38;5;124mstatement\u001b[39m\u001b[38;5;124m'\u001b[39m)\n\u001b[0;32m     33\u001b[0m     prob_question \u001b[38;5;241m=\u001b[39m classCondProb(sentence, \u001b[38;5;124m'\u001b[39m\u001b[38;5;124mquestion\u001b[39m\u001b[38;5;124m'\u001b[39m) \u001b[38;5;241m*\u001b[39m prior(\u001b[38;5;124m'\u001b[39m\u001b[38;5;124mquestion\u001b[39m\u001b[38;5;124m'\u001b[39m)\n\u001b[0;32m     34\u001b[0m     \u001b[38;5;28;01mif\u001b[39;00m  prob_statement \u001b[38;5;241m>\u001b[39m prob_question:\n",
      "Input \u001b[1;32mIn [27]\u001b[0m, in \u001b[0;36mclassCondProb\u001b[1;34m(sentence, className)\u001b[0m\n\u001b[0;32m     20\u001b[0m     idx \u001b[38;5;241m=\u001b[39m np\u001b[38;5;241m.\u001b[39mwhere(word_list_s \u001b[38;5;241m==\u001b[39m word)\n\u001b[0;32m     21\u001b[0m     \u001b[38;5;66;03m#print('idx shape:', np.array(idx).shape)\u001b[39;00m\n\u001b[1;32m---> 22\u001b[0m     prob \u001b[38;5;241m=\u001b[39m prob \u001b[38;5;241m*\u001b[39m prob_s[\u001b[43mnp\u001b[49m\u001b[38;5;241;43m.\u001b[39;49m\u001b[43marray\u001b[49m\u001b[43m(\u001b[49m\u001b[43midx\u001b[49m\u001b[43m)\u001b[49m\u001b[43m[\u001b[49m\u001b[38;5;241;43m0\u001b[39;49m\u001b[43m,\u001b[49m\u001b[38;5;241;43m0\u001b[39;49m\u001b[43m]\u001b[49m]\n\u001b[0;32m     23\u001b[0m \u001b[38;5;28;01melse\u001b[39;00m:\n\u001b[0;32m     24\u001b[0m     idx \u001b[38;5;241m=\u001b[39m np\u001b[38;5;241m.\u001b[39mwhere(word_list_q \u001b[38;5;241m==\u001b[39m word)\n",
      "\u001b[1;31mIndexError\u001b[0m: index 0 is out of bounds for axis 1 with size 0"
     ]
    }
   ],
   "source": [
    "test_docs = list([test['sentence'] for index,test in testing_data.iterrows()])\n",
    "print('Getting prediction for \"%s\"' % test_docs[0])\n",
    "predict(test_docs[0])\n"
   ]
  },
  {
   "cell_type": "markdown",
   "metadata": {
    "deletable": false,
    "editable": false,
    "nbgrader": {
     "cell_type": "markdown",
     "checksum": "c92cc1750ff6519f167950df416dbad7",
     "grade": false,
     "grade_id": "cell-9d86c9d269d1a550",
     "locked": true,
     "schema_version": 3,
     "solution": false,
     "task": false
    }
   },
   "source": [
    "### Exercise 1.1 (10 points)\n",
    "\n",
    "Explain Why it failed and explain how to solve the problem."
   ]
  },
  {
   "cell_type": "markdown",
   "metadata": {
    "deletable": false,
    "editable": false,
    "nbgrader": {
     "cell_type": "markdown",
     "checksum": "7a8b94cb831bb4a934e82d63cdf77be3",
     "grade": false,
     "grade_id": "cell-d424d31d1e17fd89",
     "locked": true,
     "points": 10,
     "schema_version": 3,
     "solution": false,
     "task": true
    }
   },
   "source": [
    "Explanation here! (Double click to explain)"
   ]
  },
  {
   "cell_type": "markdown",
   "metadata": {},
   "source": [
    "It fails because on of the words count was 0. That returns nothing while finding index in the function classCondProb. That's why the error shows index 0 is out of bound. <br> <br>\n",
    "To solve the problem we can use Laplace smooting. This sets the frequency of all words with frequency 0 to a frequency of 1. The technique also increases the value of other words by 1, that ensures overall probabilities don't change."
   ]
  },
  {
   "cell_type": "markdown",
   "metadata": {
    "deletable": false,
    "editable": false,
    "nbgrader": {
     "cell_type": "markdown",
     "checksum": "2a281f0b0b151358f4dbbcbfb6adbd38",
     "grade": false,
     "grade_id": "cell-e17217b48752c1fe",
     "locked": true,
     "schema_version": 3,
     "solution": false,
     "task": false
    }
   },
   "source": [
    "### Exercise 1.2 (20 points)\n",
    "\n",
    "Modify your code and make it works."
   ]
  },
  {
   "cell_type": "code",
   "execution_count": 34,
   "metadata": {},
   "outputs": [],
   "source": [
    "#def laplace():\n",
    "    "
   ]
  },
  {
   "cell_type": "code",
   "execution_count": 32,
   "metadata": {
    "deletable": false,
    "nbgrader": {
     "cell_type": "code",
     "checksum": "e51fedc8aefb2614a7936134d6333f67",
     "grade": false,
     "grade_id": "cell-0722e2f212d3751c",
     "locked": false,
     "schema_version": 3,
     "solution": true,
     "task": false
    }
   },
   "outputs": [],
   "source": [
    "\n",
    "# only changing the classCondProb()\n",
    "\n",
    "a = 1\n",
    "prob_s = []\n",
    "for count in freq_list_s:\n",
    "    #print(word, count)\n",
    "    prob_s.append((count+a)/(sum(freq_list_s)+len(freq_list_s)*a))\n",
    "    \n",
    "prob_s.append(a/(sum(freq_list_s)+len(freq_list_s)*a))\n",
    "    \n",
    "# Get word probabilities for question class\n",
    "\n",
    "prob_q = []\n",
    "for count in freq_list_q:\n",
    "    prob_q.append((count+a)/(sum(freq_list_q)+len(freq_list_q)*a))\n",
    "    \n",
    "prob_q.append(a/(sum(freq_list_q)+len(freq_list_q)*a))   \n",
    "\n",
    "\n",
    "def prior(className):    \n",
    "    denominator = len(stmt_docs) + len(question_docs)\n",
    "    \n",
    "    if className == 'statement':\n",
    "        numerator =  len(stmt_docs)\n",
    "    else:\n",
    "        numerator =  len(question_docs)\n",
    "        \n",
    "    return np.divide(numerator,denominator)\n",
    "    \n",
    "# Calculate class conditional probability for a sentence\n",
    "    \n",
    "def classCondProb(sentence, className):\n",
    "    words = get_words(sentence)\n",
    "    prob = 1\n",
    "    for word in words:\n",
    "            if className == 'statement':\n",
    "                idx = np.where(word_list_s == word)\n",
    "                \n",
    "                if np.array(idx).shape[1] != 0: \n",
    "                    prob = (prob * prob_s[np.array(idx)[0,0]]) \n",
    "                else:\n",
    "                    prob = (prob * prob_s[-1])\n",
    "                    \n",
    "            else:\n",
    "                idx = np.where(word_list_q == word)\n",
    "                \n",
    "                if np.array(idx).shape[1] != 0: \n",
    "                    prob = (prob * prob_q[np.array(idx)[0,0]]) \n",
    "                else:\n",
    "                    prob = (prob * prob_q[-1])\n",
    "                \n",
    "    \n",
    "    return prob\n",
    "\n",
    "# Predict class of a sentence\n",
    "\n",
    "def predict(sentence):\n",
    "    prob_statement = classCondProb(sentence, 'statement') * prior('statement')\n",
    "    prob_question = classCondProb(sentence, 'question') * prior('question')\n",
    "    if  prob_statement > prob_question:\n",
    "        return 'statement'\n",
    "    else:\n",
    "        return 'question'"
   ]
  },
  {
   "cell_type": "code",
   "execution_count": 33,
   "metadata": {
    "deletable": false,
    "editable": false,
    "nbgrader": {
     "cell_type": "code",
     "checksum": "b12f4c8d6b4163d2f6cfe464b3ba62f3",
     "grade": true,
     "grade_id": "cell-c576e7ed4dd3046a",
     "locked": true,
     "points": 20,
     "schema_version": 3,
     "solution": false,
     "task": false
    }
   },
   "outputs": [
    {
     "name": "stdout",
     "output_type": "stream",
     "text": [
      "Getting prediction for this is the book\"\n",
      "question\n",
      "Getting prediction for who are the novels characters\"\n",
      "question\n",
      "Getting prediction for is this the author\"\n",
      "question\n",
      "Getting prediction for I like apples\"\n",
      "question\n",
      "success!\n"
     ]
    }
   ],
   "source": [
    "# Test function: Do not remove\n",
    "test_docs = list([test['sentence'] for index,test in testing_data.iterrows()])\n",
    "\n",
    "for sentence in test_docs:\n",
    "    print('Getting prediction for %s\"' % sentence)\n",
    "    print(predict(sentence))\n",
    "    \n",
    "print(\"success!\")\n",
    "# End Test function"
   ]
  },
  {
   "cell_type": "markdown",
   "metadata": {
    "deletable": false,
    "editable": false,
    "nbgrader": {
     "cell_type": "markdown",
     "checksum": "63a751b5f418dd7b04bf156032e8435f",
     "grade": false,
     "grade_id": "cell-12db07859804f68d",
     "locked": true,
     "schema_version": 3,
     "solution": false,
     "task": false
    }
   },
   "source": [
    "**Expect result**:\\\n",
    "Getting prediction for this is the book\"\\\n",
    "question\\\n",
    "Getting prediction for who are the novels characters\"\\\n",
    "question\\\n",
    "Getting prediction for is this the author\"\\\n",
    "question"
   ]
  },
  {
   "cell_type": "markdown",
   "metadata": {
    "deletable": false,
    "editable": false,
    "nbgrader": {
     "cell_type": "markdown",
     "checksum": "1a3302658ee7212f23942b2d4d93e70c",
     "grade": false,
     "grade_id": "cell-2bc1a154cce1dd7a",
     "locked": true,
     "points": 50,
     "schema_version": 3,
     "solution": false,
     "task": true
    }
   },
   "source": [
    "### Take home exercise\n",
    "\n",
    "Find a more substantial text classification dataset, clean up the documents, and build your NB classifier. Write a brief report on your in-lab and take home exercises and results."
   ]
  },
  {
   "cell_type": "markdown",
   "metadata": {},
   "source": [
    "Dataset is collected from kaggle: https://www.kaggle.com/datasets/eswarchandt/amazon-music-reviews?select=Musical_instruments_reviews.csv"
   ]
  },
  {
   "cell_type": "markdown",
   "metadata": {},
   "source": [
    "I only considered 'reviewText' and 'overall' columns. 'overall' is renamed to 'rating'. For convenience, among the five different values of ratings I only considered 'five' and 'four'."
   ]
  },
  {
   "cell_type": "code",
   "execution_count": 130,
   "metadata": {},
   "outputs": [
    {
     "data": {
      "text/html": [
       "<div>\n",
       "<style scoped>\n",
       "    .dataframe tbody tr th:only-of-type {\n",
       "        vertical-align: middle;\n",
       "    }\n",
       "\n",
       "    .dataframe tbody tr th {\n",
       "        vertical-align: top;\n",
       "    }\n",
       "\n",
       "    .dataframe thead th {\n",
       "        text-align: right;\n",
       "    }\n",
       "</style>\n",
       "<table border=\"1\" class=\"dataframe\">\n",
       "  <thead>\n",
       "    <tr style=\"text-align: right;\">\n",
       "      <th></th>\n",
       "      <th>reviewText</th>\n",
       "      <th>rating</th>\n",
       "    </tr>\n",
       "  </thead>\n",
       "  <tbody>\n",
       "    <tr>\n",
       "      <th>0</th>\n",
       "      <td>Not much to write about here, but it does exac...</td>\n",
       "      <td>five</td>\n",
       "    </tr>\n",
       "    <tr>\n",
       "      <th>1</th>\n",
       "      <td>The product does exactly as it should and is q...</td>\n",
       "      <td>five</td>\n",
       "    </tr>\n",
       "    <tr>\n",
       "      <th>2</th>\n",
       "      <td>The primary job of this device is to block the...</td>\n",
       "      <td>five</td>\n",
       "    </tr>\n",
       "    <tr>\n",
       "      <th>3</th>\n",
       "      <td>Nice windscreen protects my MXL mic and preven...</td>\n",
       "      <td>five</td>\n",
       "    </tr>\n",
       "    <tr>\n",
       "      <th>4</th>\n",
       "      <td>This pop filter is great. It looks and perform...</td>\n",
       "      <td>five</td>\n",
       "    </tr>\n",
       "  </tbody>\n",
       "</table>\n",
       "</div>"
      ],
      "text/plain": [
       "                                          reviewText rating\n",
       "0  Not much to write about here, but it does exac...   five\n",
       "1  The product does exactly as it should and is q...   five\n",
       "2  The primary job of this device is to block the...   five\n",
       "3  Nice windscreen protects my MXL mic and preven...   five\n",
       "4  This pop filter is great. It looks and perform...   five"
      ]
     },
     "execution_count": 130,
     "metadata": {},
     "output_type": "execute_result"
    }
   ],
   "source": [
    "df = pd.read_csv('review3.csv')\n",
    "df[:5]"
   ]
  },
  {
   "cell_type": "code",
   "execution_count": 131,
   "metadata": {},
   "outputs": [
    {
     "data": {
      "text/plain": [
       "five    7749\n",
       "four    2347\n",
       "Name: rating, dtype: int64"
      ]
     },
     "execution_count": 131,
     "metadata": {},
     "output_type": "execute_result"
    }
   ],
   "source": [
    "df['rating'].value_counts()"
   ]
  },
  {
   "cell_type": "code",
   "execution_count": 132,
   "metadata": {},
   "outputs": [
    {
     "name": "stdout",
     "output_type": "stream",
     "text": [
      "<class 'pandas.core.frame.DataFrame'>\n",
      "RangeIndex: 10096 entries, 0 to 10095\n",
      "Data columns (total 2 columns):\n",
      " #   Column      Non-Null Count  Dtype \n",
      "---  ------      --------------  ----- \n",
      " 0   reviewText  10085 non-null  object\n",
      " 1   rating      10096 non-null  object\n",
      "dtypes: object(2)\n",
      "memory usage: 157.9+ KB\n"
     ]
    }
   ],
   "source": [
    "df.info()"
   ]
  },
  {
   "cell_type": "code",
   "execution_count": null,
   "metadata": {},
   "outputs": [],
   "source": []
  },
  {
   "cell_type": "code",
   "execution_count": 133,
   "metadata": {},
   "outputs": [
    {
     "name": "stdout",
     "output_type": "stream",
     "text": [
      "Index(['reviewText', 'rating'], dtype='object')\n"
     ]
    },
    {
     "data": {
      "text/plain": [
       "array([[\"Not much to write about here, but it does exactly what it's supposed to. filters out the pop sounds. now my recordings are much more crisp. it is one of the lowest prices pop filters on amazon so might as well buy it, they honestly work the same despite their pricing,\",\n",
       "        'five'],\n",
       "       [\"The product does exactly as it should and is quite affordable.I did not realized it was double screened until it arrived, so it was even better than I had expected.As an added bonus, one of the screens carries a small hint of the smell of an old grape candy I used to buy, so for reminiscent's sake, I cannot stop putting the pop filter next to my nose and smelling it after recording. :DIf you needed a pop filter, this will work just as well as the expensive ones, and it may even come with a pleasing aroma like mine did!Buy this product! :]\",\n",
       "        'five'],\n",
       "       ['The primary job of this device is to block the breath that would otherwise produce a popping sound, while allowing your voice to pass through with no noticeable reduction of volume or high frequencies. The double cloth filter blocks the pops and lets the voice through with no coloration. The metal clamp mount attaches to the mike stand secure enough to keep it attached. The goose neck needs a little coaxing to stay where you put it.',\n",
       "        'five'],\n",
       "       ['Nice windscreen protects my MXL mic and prevents pops. Only thing is that the gooseneck is only marginally able to hold the screen in position and requires careful positioning of the clamp to avoid sagging.',\n",
       "        'five'],\n",
       "       [\"This pop filter is great. It looks and performs like a studio filter. If you're recording vocals this will eliminate the pops that gets recorded when you sing.\",\n",
       "        'five']], dtype=object)"
      ]
     },
     "execution_count": 133,
     "metadata": {},
     "output_type": "execute_result"
    }
   ],
   "source": [
    "import re\n",
    "filename = 'review3.csv'\n",
    "dataset, headers = loadCsv(filename)\n",
    "dataset = dataset[:1000,0:] #we will only use 1000 sentences\n",
    "print(headers)\n",
    "#the dataset is the classification of sentences into statements or questions\n",
    "# 0 is a statement and 1 is a question as we can see below\n",
    "dataset[:5]"
   ]
  },
  {
   "cell_type": "code",
   "execution_count": 134,
   "metadata": {},
   "outputs": [],
   "source": [
    "#removing all special characters and numbers and then converting all to lower case\n",
    "for i in range(dataset.shape[0]):\n",
    "    dataset[i,0] = re.sub(r\"[^a-z]\",\" \",dataset[i,0].lower())  "
   ]
  },
  {
   "cell_type": "code",
   "execution_count": 135,
   "metadata": {},
   "outputs": [],
   "source": [
    "X_train,X_test,y_train,y_test = splitDataset(0.3,dataset[:,:-1],\n",
    "                                             dataset[:,-1])"
   ]
  },
  {
   "cell_type": "code",
   "execution_count": 136,
   "metadata": {},
   "outputs": [
    {
     "data": {
      "text/plain": [
       "array(['four', 'five', 'four', 'four', 'five', 'five', 'five', 'four',\n",
       "       'four', 'five', 'five', 'five', 'five', 'four', 'five', 'four',\n",
       "       'five', 'five', 'five', 'five', 'five', 'five', 'five', 'five',\n",
       "       'five', 'five', 'five', 'four', 'five', 'five', 'five', 'five',\n",
       "       'five', 'five', 'five', 'four', 'five', 'five', 'five', 'four',\n",
       "       'four', 'five', 'five', 'five', 'five', 'five', 'four', 'five',\n",
       "       'five', 'four', 'five', 'five', 'four', 'five', 'five', 'five',\n",
       "       'five', 'four', 'five', 'four', 'five', 'five', 'four', 'four',\n",
       "       'five', 'four', 'five', 'five', 'five', 'four', 'five', 'five',\n",
       "       'five', 'five', 'five', 'five', 'five', 'five', 'five', 'five',\n",
       "       'four', 'four', 'five', 'four', 'five', 'five', 'five', 'five',\n",
       "       'five', 'five', 'five', 'five', 'five', 'five', 'five', 'four',\n",
       "       'five', 'five', 'five', 'five', 'four', 'five', 'five', 'five',\n",
       "       'five', 'four', 'five', 'five', 'four', 'five', 'five', 'four',\n",
       "       'five', 'five', 'five', 'five', 'five', 'five', 'five', 'five',\n",
       "       'five', 'five', 'five', 'five', 'five', 'five', 'five', 'four',\n",
       "       'five', 'four', 'four', 'five', 'five', 'five', 'five', 'five',\n",
       "       'five', 'four', 'four', 'five', 'five', 'four', 'five', 'five',\n",
       "       'five', 'five', 'four', 'five', 'five', 'five', 'five', 'four',\n",
       "       'five', 'five', 'five', 'five', 'five', 'five', 'five', 'four',\n",
       "       'five', 'four', 'five', 'four', 'four', 'five', 'five', 'four',\n",
       "       'five', 'four', 'four', 'five', 'five', 'five', 'five', 'five',\n",
       "       'five', 'five', 'five', 'five', 'four', 'five', 'four', 'five',\n",
       "       'five', 'five', 'five', 'five', 'four', 'four', 'five', 'five',\n",
       "       'four', 'five', 'five', 'five', 'five', 'five', 'five', 'five',\n",
       "       'five', 'five', 'five', 'four', 'five', 'five', 'five', 'five',\n",
       "       'five', 'five', 'five', 'four', 'five', 'five', 'five', 'four',\n",
       "       'five', 'four', 'four', 'five', 'five', 'five', 'five', 'four',\n",
       "       'five', 'four', 'five', 'five', 'five', 'five', 'five', 'five',\n",
       "       'five', 'five', 'five', 'four', 'five', 'five', 'four', 'five',\n",
       "       'five', 'five', 'five', 'five', 'five', 'five', 'four', 'five',\n",
       "       'five', 'five', 'five', 'five', 'five', 'five', 'four', 'five',\n",
       "       'five', 'five', 'five', 'five', 'five', 'four', 'five', 'five',\n",
       "       'five', 'four', 'four', 'five', 'five', 'five', 'five', 'five',\n",
       "       'five', 'five', 'five', 'five', 'four', 'five', 'five', 'four',\n",
       "       'four', 'four', 'five', 'four', 'five', 'five', 'five', 'five',\n",
       "       'four', 'five', 'five', 'five', 'five', 'five', 'four', 'five',\n",
       "       'four', 'four', 'five', 'four', 'five', 'five', 'five', 'four',\n",
       "       'five', 'five', 'five', 'five', 'five', 'four', 'four', 'five',\n",
       "       'five', 'five', 'four', 'five', 'five', 'five', 'five', 'five',\n",
       "       'five', 'five', 'five', 'five', 'five', 'five', 'five', 'five',\n",
       "       'five', 'four', 'four', 'five', 'five', 'five', 'five', 'four',\n",
       "       'five', 'five', 'five', 'five', 'five', 'five', 'five', 'five',\n",
       "       'four', 'five', 'five', 'five', 'five', 'four', 'five', 'five',\n",
       "       'five', 'five', 'four', 'four', 'five', 'five', 'five', 'four',\n",
       "       'five', 'five', 'five', 'four', 'four', 'four', 'five', 'five',\n",
       "       'five', 'five', 'four', 'five', 'five', 'five', 'five', 'five',\n",
       "       'five', 'five', 'five', 'five', 'four', 'five', 'four', 'five',\n",
       "       'five', 'five', 'four', 'five', 'five', 'five', 'five', 'four',\n",
       "       'five', 'five', 'five', 'five', 'five', 'five', 'four', 'five',\n",
       "       'five', 'five', 'five', 'five', 'five', 'four', 'five', 'four',\n",
       "       'five', 'five', 'five', 'five', 'five', 'four', 'four', 'five',\n",
       "       'five', 'five', 'five', 'five', 'five', 'five', 'five', 'five',\n",
       "       'four', 'five', 'five', 'four', 'four', 'five', 'five', 'five',\n",
       "       'five', 'five', 'four', 'five', 'five', 'five', 'five', 'four',\n",
       "       'four', 'five', 'four', 'five', 'four', 'five', 'five', 'five',\n",
       "       'five', 'four', 'five', 'five', 'five', 'five', 'five', 'five',\n",
       "       'five', 'five', 'five', 'five', 'four', 'four', 'five', 'four',\n",
       "       'five', 'five', 'five', 'four', 'five', 'five', 'five', 'five',\n",
       "       'five', 'four', 'four', 'five', 'five', 'five', 'five', 'five',\n",
       "       'five', 'five', 'five', 'five', 'five', 'five', 'five', 'five',\n",
       "       'five', 'five', 'five', 'five', 'five', 'five', 'five', 'four',\n",
       "       'four', 'five', 'five', 'five', 'four', 'five', 'four', 'five',\n",
       "       'five', 'five', 'five', 'four', 'four', 'five', 'four', 'five',\n",
       "       'five', 'four', 'five', 'five', 'five', 'five', 'four', 'five',\n",
       "       'five', 'five', 'five', 'four', 'five', 'five', 'four', 'five',\n",
       "       'four', 'five', 'four', 'five', 'five', 'five', 'five', 'five',\n",
       "       'five', 'five', 'five', 'five', 'five', 'five', 'five', 'four',\n",
       "       'five', 'five', 'five', 'five', 'five', 'five', 'five', 'five',\n",
       "       'five', 'four', 'five', 'four', 'five', 'five', 'five', 'five',\n",
       "       'five', 'five', 'five', 'five', 'five', 'four', 'five', 'five',\n",
       "       'five', 'five', 'five', 'four', 'five', 'four', 'five', 'four',\n",
       "       'five', 'five', 'five', 'five', 'five', 'five', 'five', 'five',\n",
       "       'five', 'five', 'five', 'five', 'five', 'five', 'four', 'four',\n",
       "       'five', 'five', 'five', 'five', 'five', 'five', 'five', 'five',\n",
       "       'four', 'five', 'five', 'four', 'five', 'five', 'four', 'five',\n",
       "       'five', 'four', 'five', 'five', 'five', 'five', 'four', 'five',\n",
       "       'four', 'five', 'five', 'five', 'five', 'five', 'five', 'four',\n",
       "       'five', 'five', 'five', 'five', 'five', 'five', 'four', 'five',\n",
       "       'five', 'five', 'five', 'four', 'five', 'four', 'four', 'five',\n",
       "       'five', 'four', 'five', 'five', 'five', 'five', 'five', 'five',\n",
       "       'four', 'five', 'four', 'five', 'five', 'five', 'five', 'four',\n",
       "       'four', 'four', 'four', 'four', 'five', 'five', 'four', 'five',\n",
       "       'five', 'five', 'five', 'five', 'five', 'five', 'five', 'five',\n",
       "       'four', 'four', 'five', 'five', 'five', 'five', 'five', 'five',\n",
       "       'five', 'five', 'four', 'four', 'five', 'four', 'five', 'five',\n",
       "       'five', 'four', 'five', 'five', 'four', 'four', 'five', 'five',\n",
       "       'five', 'five', 'five', 'five'], dtype=object)"
      ]
     },
     "execution_count": 136,
     "metadata": {},
     "output_type": "execute_result"
    }
   ],
   "source": [
    "y_train"
   ]
  },
  {
   "cell_type": "code",
   "execution_count": 137,
   "metadata": {},
   "outputs": [],
   "source": [
    "rat5_docs = (X_train[y_train == 'five']).reshape(-1).tolist()\n",
    "rat4_docs = (X_train[y_train == 'four']).reshape(-1).tolist()\n",
    "\n",
    "# s_docs = rat5_docs\n",
    "# q_docs = rat4_docs"
   ]
  },
  {
   "cell_type": "code",
   "execution_count": 138,
   "metadata": {},
   "outputs": [
    {
     "data": {
      "text/plain": [
       "[('a', 1134),\n",
       " ('ability', 3),\n",
       " ('able', 12),\n",
       " ('abnormalities', 1),\n",
       " ('about', 67),\n",
       " ('above', 6),\n",
       " ('absolutely', 6),\n",
       " ('absolutley', 1),\n",
       " ('absorb', 1),\n",
       " ('abuse', 5),\n",
       " ('abused', 1),\n",
       " ('ac', 6),\n",
       " ('acceptable', 1),\n",
       " ('accepts', 1),\n",
       " ('access', 4),\n",
       " ('accessed', 1),\n",
       " ('accessible', 2),\n",
       " ('accessories', 1),\n",
       " ('accessory', 1),\n",
       " ('accident', 1)]"
      ]
     },
     "execution_count": 138,
     "metadata": {},
     "output_type": "execute_result"
    }
   ],
   "source": [
    "# word_list_s = word_list_5\n",
    "# word_freq_table_s = word_freq_table_5\n",
    "# tdm_s = tdm_5\n",
    "# freq_list_s = freq_list_5\n",
    "# freq_s = freq_5\n",
    "\n",
    "word_list_5 = get_words(rat5_docs)\n",
    "word_list_5\n",
    "word_freq_table_5 = get_doc_word_frequency(word_list_5, rat5_docs)\n",
    "tdm_5 = pd.DataFrame(word_freq_table_5, columns=word_list_5)\n",
    "tdm_5\n",
    "\n",
    "freq_list_5 = word_freq_table_5.sum(axis=0) \n",
    "freq_5 = dict(zip(word_list_5,freq_list_5))\n",
    "freq_5.pop('') #ignoring spaces\n",
    "list(freq_5.items())[:20]"
   ]
  },
  {
   "cell_type": "code",
   "execution_count": 139,
   "metadata": {},
   "outputs": [
    {
     "data": {
      "text/plain": [
       "[('a', 493),\n",
       " ('able', 5),\n",
       " ('ableto', 1),\n",
       " ('about', 38),\n",
       " ('abrasive', 1),\n",
       " ('absolutely', 2),\n",
       " ('abuse', 1),\n",
       " ('ac', 1),\n",
       " ('acceptable', 1),\n",
       " ('accessories', 1),\n",
       " ('accessory', 1),\n",
       " ('accident', 1),\n",
       " ('accidentally', 1),\n",
       " ('accurate', 2),\n",
       " ('achieved', 1),\n",
       " ('acoustic', 13),\n",
       " ('acoustics', 1),\n",
       " ('across', 4),\n",
       " ('action', 1),\n",
       " ('activated', 1)]"
      ]
     },
     "execution_count": 139,
     "metadata": {},
     "output_type": "execute_result"
    }
   ],
   "source": [
    "# q_docs = rat4_docs\n",
    "# word_list_q = word_list_4\n",
    "# word_fre_table_q = word_fre_table_4\n",
    "# tdm_q = tdm_4\n",
    "# freq_list_q = freq_list_4\n",
    "# freq_q = freq_4\n",
    "\n",
    "word_list_4 = get_words(rat4_docs)\n",
    "word_freq_table_4 = get_doc_word_frequency(word_list_4, rat4_docs)\n",
    "tdm_4 = pd.DataFrame(word_freq_table_4, columns=word_list_4)\n",
    "tdm_4\n",
    "\n",
    "freq_list_4 = word_freq_table_4.sum(axis=0) \n",
    "freq_4 = dict(zip(word_list_4,freq_list_4))\n",
    "\n",
    "freq_4.pop('') #removing spaces\n",
    "list(freq_4.items())[:20]"
   ]
  },
  {
   "cell_type": "code",
   "execution_count": 140,
   "metadata": {},
   "outputs": [],
   "source": [
    "# YOUR CODE HERE\n",
    "a = 1\n",
    "prob_5 = []\n",
    "for count in freq_list_5:\n",
    "    #print(word, count)\n",
    "    prob_5.append((count+a)/(sum(freq_list_5)+len(freq_list_5)*a))\n",
    "    \n",
    "prob_5.append(a/(sum(freq_list_5)+len(freq_list_5)*a))\n",
    "    \n",
    "# Get word probabilities for rating 4\n",
    "\n",
    "prob_4 = []\n",
    "for count in freq_list_4:\n",
    "    prob_4.append((count+a)/(sum(freq_list_4)+len(freq_list_4)*a))\n",
    "    \n",
    "prob_4.append(a/(sum(freq_list_4)+len(freq_list_4)*a))   \n",
    "\n",
    "\n",
    "def prior(className):    \n",
    "    denominator = len(rat5_docs) + len(rat4_docs)\n",
    "    \n",
    "    if className == 'five':\n",
    "        numerator =  len(rat5_docs)\n",
    "    else:\n",
    "        numerator =  len(rat4_docs)\n",
    "        \n",
    "    return np.divide(numerator,denominator)\n",
    "    \n",
    "# Calculate class conditional probability for a sentence\n",
    "    \n",
    "def classCondProb(sentence, className):\n",
    "    words = get_words(sentence)\n",
    "    prob = 1\n",
    "    for word in words:\n",
    "            if className == 'five':\n",
    "                idx = np.where(word_list_5 == word)\n",
    "                \n",
    "                if np.array(idx).shape[1] != 0: \n",
    "                    prob = (prob * prob_5[np.array(idx)[0,0]]) \n",
    "                else:\n",
    "                    prob = (prob * prob_5[-1])\n",
    "                    \n",
    "            else: #if class is four\n",
    "                idx = np.where(word_list_4 == word)\n",
    "                \n",
    "                if np.array(idx).shape[1] != 0: \n",
    "                    prob = (prob * prob_4[np.array(idx)[0,0]]) \n",
    "                else:\n",
    "                    prob = (prob * prob_4[-1])\n",
    "                \n",
    "    \n",
    "    return prob\n",
    "\n",
    "# Predict class of a sentence\n",
    "\n",
    "def predict(sentence):\n",
    "    prob_rat5 = classCondProb(sentence, 'five') * prior('five')\n",
    "    prob_rat4 = classCondProb(sentence, 'four') * prior('four')\n",
    "    if  prob_rat5 > prob_rat4:\n",
    "        return 'five' \n",
    "    else:\n",
    "        return 'four' "
   ]
  },
  {
   "cell_type": "code",
   "execution_count": 141,
   "metadata": {},
   "outputs": [
    {
     "name": "stdout",
     "output_type": "stream",
     "text": [
      "The accuracy of our model is:  0.5133333333333333\n"
     ]
    }
   ],
   "source": [
    "#Getting the predicted values of the test set\n",
    "yhat_test = []\n",
    "for i in X_test:\n",
    "    yhat_test.append(predict(i))\n",
    "\n",
    "print ('The accuracy of our model is: ',getAccuracy(y_test,yhat_test))"
   ]
  },
  {
   "cell_type": "code",
   "execution_count": 142,
   "metadata": {},
   "outputs": [
    {
     "name": "stdout",
     "output_type": "stream",
     "text": [
      "Prior for rating 5: 0.7685714285714286\n",
      "Accuracy of our model 0.5133333333333333\n"
     ]
    }
   ],
   "source": [
    "print('Prior for rating 5:', prior('five'))\n",
    "print('Accuracy of our model', getAccuracy(y_test,yhat_test))"
   ]
  },
  {
   "cell_type": "markdown",
   "metadata": {},
   "source": [
    "I converted the words in the lowercase and removed all numbers and special characters. NB Classifier was used and was able to get an accuracy of 0.513 to classify rating five and rating four. By adding prior, we observe very slight improvement."
   ]
  },
  {
   "cell_type": "code",
   "execution_count": null,
   "metadata": {},
   "outputs": [],
   "source": []
  }
 ],
 "metadata": {
  "kernelspec": {
   "display_name": "Python 3 (ipykernel)",
   "language": "python",
   "name": "python3"
  },
  "language_info": {
   "codemirror_mode": {
    "name": "ipython",
    "version": 3
   },
   "file_extension": ".py",
   "mimetype": "text/x-python",
   "name": "python",
   "nbconvert_exporter": "python",
   "pygments_lexer": "ipython3",
   "version": "3.9.12"
  }
 },
 "nbformat": 4,
 "nbformat_minor": 4
}
